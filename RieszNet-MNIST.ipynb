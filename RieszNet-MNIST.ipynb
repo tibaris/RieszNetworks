{
 "cells": [
  {
   "cell_type": "code",
   "execution_count": 7,
   "metadata": {},
   "outputs": [],
   "source": [
    "from skimage import io, exposure\n",
    "\n",
    "import numpy as np\n",
    "import scipy\n",
    "import scipy.ndimage\n",
    "import matplotlib.pyplot as plt\n",
    "\n",
    "from sklearn.metrics import confusion_matrix\n",
    "from sklearn import metrics\n",
    "\n",
    "import torch\n",
    "import torch.nn as nn\n",
    "import torch.nn.functional as F\n",
    "import torch.optim as optim\n",
    "import torch.optim.lr_scheduler as sched\n",
    "import time\n",
    "import gc\n",
    "import sys\n",
    "import csv\n",
    "import pandas as pd"
   ]
  },
  {
   "cell_type": "code",
   "execution_count": 8,
   "metadata": {},
   "outputs": [],
   "source": [
    "from scipy.fft import ifftn, fftn, fft2, ifft2\n",
    "import h5py"
   ]
  },
  {
   "cell_type": "code",
   "execution_count": 9,
   "metadata": {},
   "outputs": [],
   "source": [
    "def count_parameters(model): return sum(p.numel() for p in model.parameters() if p.requires_grad)"
   ]
  },
  {
   "cell_type": "code",
   "execution_count": 10,
   "metadata": {},
   "outputs": [],
   "source": [
    "def MinMaxNormalization(tensor):\n",
    "    #min max normalization\n",
    "    v_min, v_max = tensor.min(), tensor.max()\n",
    "    tensor = (tensor - v_min)/(v_max - v_min)\n",
    "    return tensor"
   ]
  },
  {
   "cell_type": "code",
   "execution_count": 11,
   "metadata": {},
   "outputs": [
    {
     "name": "stdout",
     "output_type": "stream",
     "text": [
      "(28, 28)\n"
     ]
    },
    {
     "data": {
      "text/plain": [
       "<matplotlib.image.AxesImage at 0x1bc92e165d0>"
      ]
     },
     "execution_count": 11,
     "metadata": {},
     "output_type": "execute_result"
    },
    {
     "data": {
      "image/png": "[encoded data removed]",
      "text/plain": [
       "<Figure size 640x480 with 1 Axes>"
      ]
     },
     "metadata": {},
     "output_type": "display_data"
    }
   ],
   "source": [
    "train_data = pd.read_csv(\"mnist_train.csv\", header=None)\n",
    "train_data = train_data.to_numpy()\n",
    "img = train_data[1,1:]\n",
    "img = img.reshape(28,28)\n",
    "print(img.shape)\n",
    "plt.imshow(img)"
   ]
  },
  {
   "cell_type": "code",
   "execution_count": 13,
   "metadata": {},
   "outputs": [
    {
     "name": "stdout",
     "output_type": "stream",
     "text": [
      "(60000, 1, 28, 28)\n",
      "(60000,)\n",
      "torch.Size([50000, 1, 28, 28])\n"
     ]
    }
   ],
   "source": [
    "train_x = train_data[:,1:]\n",
    "train_x = train_x.reshape([train_x.shape[0],1,28,28])\n",
    "train_y = train_data[:,0]\n",
    "print(train_x.shape)\n",
    "print(train_y.shape)\n",
    "\n",
    "train_x  = torch.from_numpy(train_x).float()\n",
    "#train_x = train_x.reshape([train_x.shape[0], train_x.shape[1],1,1])\n",
    "train_y  = torch.from_numpy(train_y).long()\n",
    "#train_y = train_y.reshape(train_y.shape[0])\n",
    "\n",
    "t1 = train_x[10000:]\n",
    "t2 = train_y[10000:]\n",
    "print(t1.shape)\n",
    "\n",
    "ted1 = train_x[:10000]\n",
    "ted2 = train_y[:10000]"
   ]
  },
  {
   "cell_type": "markdown",
   "metadata": {},
   "source": [
    "# Riesz"
   ]
  },
  {
   "cell_type": "code",
   "execution_count": 14,
   "metadata": {},
   "outputs": [],
   "source": [
    "def MakeRange(size_n):\n",
    "    output = np.zeros(size_n)\n",
    "    center = int(size_n/2)\n",
    "    for i in range(size_n):\n",
    "        output[i] = (i-center)/(size_n - (size_n%2))\n",
    "    return output"
   ]
  },
  {
   "cell_type": "code",
   "execution_count": 15,
   "metadata": {},
   "outputs": [],
   "source": [
    "def RieszDerivatives(img, order):\n",
    "    #get image size\n",
    "    size_x, size_y = img.shape\n",
    "    Riesz_kernel = np.zeros(img.shape, dtype=complex)\n",
    "    #get riesz kernel in fourier domain\n",
    "    gx = MakeRange(size_x)\n",
    "    gy = MakeRange(size_y)\n",
    "    for i in range(size_x):\n",
    "        for j in range(size_y):\n",
    "            den = gx[i]*gx[i]+gy[j]*gy[j]\n",
    "            if den > 1e-08:\n",
    "                if(order[0] == 0 and order[1] == 1):\n",
    "                    den = np.sqrt(den)\n",
    "                    Riesz_kernel[i,j] = complex(0,-gy[j]/den)\n",
    "                if(order[0] == 1 and order[1] == 0):\n",
    "                    den = np.sqrt(den)\n",
    "                    Riesz_kernel[i,j] = complex(0,-gx[i]/den)\n",
    "                if(order[0] == 2 and order[1] == 0):\n",
    "                    Riesz_kernel[i,j] = complex(gx[i]*gx[i]/den,0)\n",
    "                if(order[0] == 1 and order[1] == 1):\n",
    "                    Riesz_kernel[i,j] = complex(gx[i]*gy[j]/den,0)\n",
    "                if(order[0] == 0 and order[1] == 2):\n",
    "                    Riesz_kernel[i,j] = complex(gy[j]*gy[j]/den,0)\n",
    "                    \n",
    "    #fourier transform of the image\n",
    "    fft_img = fft2(img)\n",
    "    fft_img = np.fft.fftshift(fft_img)\n",
    "    result = np.multiply(fft_img, Riesz_kernel)\n",
    "    result = np.fft.ifftshift(result)\n",
    "    result = ifft2(result)\n",
    "    return result"
   ]
  },
  {
   "cell_type": "markdown",
   "metadata": {},
   "source": [
    "# Read me:\n",
    "\n",
    "### Useful links:\n",
    "\n",
    "We follow tutorial on pytorch:\n",
    "https://pytorch.org/tutorials/beginner/blitz/neural_networks_tutorial.html\n",
    "\n",
    "\n",
    "How to make parameters to non-trainable?\n",
    "https://discuss.pytorch.org/t/are-torch-nn-functional-layers-learnable/13687/2\n",
    "\n",
    "\n",
    "How to implement Gaussian filter?\n",
    "https://discuss.pytorch.org/t/gaussian-kernel-layer/37619\n",
    "\n",
    "How to get high-order derivative of Gaussian filter?\n",
    "https://dsp.stackexchange.com/questions/78280/are-scipy-second-order-gaussian-derivatives-correct\n",
    "\n",
    "How to concatenate layers?\n",
    "https://discuss.pytorch.org/t/concatenate-layer-output-with-additional-input-data/20462\n",
    "\n",
    "\n",
    "### Goal:\n",
    "\n",
    "implement Gaussian derivative neural network for multiscale analysis from:\n",
    "Lindeberg, T. Scale-Covariant and Scale-Invariant Gaussian Derivative Networks. J Math Imaging Vis (2021). \n",
    "https://doi.org/10.1007/s10851-021-01057-9\n",
    "or \n",
    "https://arxiv.org/abs/2011.14759\n",
    "\n",
    "Aim: adapt it for multiscale data segmentation of crack in CT images of concrete.\n",
    "\n",
    "\n"
   ]
  },
  {
   "cell_type": "code",
   "execution_count": 16,
   "metadata": {},
   "outputs": [],
   "source": [
    "def RieszKernelVar(s_x, s_y, order):\n",
    "    #get riesz kernel in fourier domain\n",
    "    size_x = s_x\n",
    "    size_y = s_y\n",
    "    Riesz_kernel = np.zeros([size_x, size_y], dtype=complex)\n",
    "    gx = MakeRange(size_x)\n",
    "    gy = MakeRange(size_y)\n",
    "    for i in range(size_x):\n",
    "        for j in range(size_y):\n",
    "            den = gx[i]*gx[i]+gy[j]*gy[j]\n",
    "            if den > 1e-08:\n",
    "                if(order[0] == 0 and order[1] == 1):\n",
    "                    den = np.sqrt(den)\n",
    "                    Riesz_kernel[i,j] = complex(0,-gy[j]/den)\n",
    "                if(order[0] == 1 and order[1] == 0):\n",
    "                    den = np.sqrt(den)\n",
    "                    Riesz_kernel[i,j] = complex(0,-gx[i]/den)\n",
    "                if(order[0] == 2 and order[1] == 0):\n",
    "                    Riesz_kernel[i,j] = complex(gx[i]*gx[i]/den,0)\n",
    "                if(order[0] == 1 and order[1] == 1):\n",
    "                    Riesz_kernel[i,j] = complex(gx[i]*gy[j]/den,0)\n",
    "                if(order[0] == 0 and order[1] == 2):\n",
    "                    Riesz_kernel[i,j] = complex(gy[j]*gy[j]/den,0)\n",
    "    Riesz_kernel2 = torch.from_numpy(Riesz_kernel)\n",
    "    Riesz_kernel2= Riesz_kernel2.reshape([1,1,size_x,size_y])\n",
    "    return Riesz_kernel2"
   ]
  },
  {
   "cell_type": "code",
   "execution_count": 17,
   "metadata": {},
   "outputs": [],
   "source": [
    "class RieszLayer(nn.Module):\n",
    "    def __init__(self, order):\n",
    "        super(RieszLayer, self).__init__()\n",
    "\n",
    "        self.order = order\n",
    "        self.size_x = 64\n",
    "        self.size_y = 64\n",
    "        self.Riesz_fft = RieszKernelVar(self.size_x,self.size_y, self.order)\n",
    " \n",
    "    def forward(self, x):\n",
    "        #Riesz_fft = RieszKernel(x, self.order)\n",
    "        if x.size()[2] != self.size_x or x.size()[3] != self.size_y:\n",
    "            self.size_x = x.size()[2]\n",
    "            self.size_y = x.size()[3]\n",
    "            self.Riesz_fft = RieszKernelVar(self.size_x, self.size_y, self.order)\n",
    "            \n",
    "\n",
    "        x = x*self.Riesz_fft\n",
    "\n",
    "        return x\n",
    "    \n",
    "class RieszNet(nn.Module):\n",
    "\n",
    "    def __init__(self):\n",
    "        super(RieszNet, self).__init__()\n",
    "        self.order1 = [1, 0]\n",
    "        self.order2 = [0, 1]\n",
    "        self.Rx = RieszLayer(self.order1)\n",
    "        self.Ry = RieszLayer(self.order2)\n",
    "\n",
    "    def forward(self, x):\n",
    "\n",
    "        x = torch.fft.fft2(x)\n",
    "        x = torch.fft.fftshift(x, dim = [2,3])\n",
    "        x1 = self.Rx(x)\n",
    "        x2 = self.Ry(x)\n",
    "        x3 = -self.Rx(x1)\n",
    "        x4 = -self.Rx(x2)\n",
    "        x5 = -self.Ry(x2)\n",
    " \n",
    "        x = torch.cat((x1, x2, x3, x4, x5), dim=1)\n",
    "        x = torch.fft.ifftshift(x, dim = [2,3])\n",
    "        x = torch.real(torch.fft.ifft2(x)).double()\n",
    "        \n",
    "        return x\n",
    "    \n",
    "\n",
    "#12-14-16-20-64 c\n",
    "class RieszNetDeep(nn.Module):\n",
    "\n",
    "    def __init__(self):\n",
    "        super(RieszNetDeep, self).__init__()\n",
    "        self.conv1 = nn.Conv2d(5,12,kernel_size = (1,1))\n",
    "        self.conv2 = nn.Conv2d(60,16,kernel_size = (1,1))\n",
    "        self.conv3 = nn.Conv2d(80,24,kernel_size = (1,1))\n",
    "        self.conv4 = nn.Conv2d(120,32,kernel_size = (1,1))\n",
    "        self.conv5 = nn.Conv2d(160,80,kernel_size = (1,1))\n",
    "        self.conv6 = nn.Conv2d(80,10,kernel_size = (1,1))\n",
    "        \n",
    "        self.bn1 = nn.BatchNorm2d(12, affine=True)\n",
    "        self.bn2 = nn.BatchNorm2d(16, affine=True)\n",
    "        self.bn3 = nn.BatchNorm2d(24, affine=True)\n",
    "        self.bn4 = nn.BatchNorm2d(32, affine=True)\n",
    "        self.bn5 = nn.BatchNorm2d(80, affine=True)\n",
    "        \n",
    "        self.GL1 = RieszNet()\n",
    "\n",
    "\n",
    "    def forward(self, y):\n",
    "        \n",
    "        #1st  layer\n",
    "        x = self.GL1(y)\n",
    "        x = self.conv1(x)\n",
    "        x = self.bn1(x)\n",
    "        x = F.relu(x)\n",
    "        #2nd layer\n",
    "        x = self.GL1(x)\n",
    "        x = self.conv2(x)\n",
    "        x = self.bn2(x)\n",
    "        x = F.relu(x)\n",
    "        #3rd layer\n",
    "        x = self.GL1(x)\n",
    "        x = self.conv3(x)\n",
    "        x = self.bn3(x)\n",
    "        x = F.relu(x)\n",
    "        #4th layer\n",
    "        x = self.GL1(x)\n",
    "        x = self.conv4(x)\n",
    "        x = self.bn4(x)\n",
    "        x = F.relu(x)\n",
    "        #5th layer\n",
    "        x = self.GL1(x)\n",
    "        x = self.conv5(x)\n",
    "        x = self.bn5(x)\n",
    "        x = F.relu(x)\n",
    "        #final layer\n",
    "        x = self.conv6(x)\n",
    "        x = F.softmax(x)\n",
    "        x = x[:,:,int(x.shape[2]/2),int(x.shape[2]/2)]\n",
    "        #print(x.shape)\n",
    "        return x"
   ]
  },
  {
   "cell_type": "markdown",
   "metadata": {},
   "source": [
    "# Test"
   ]
  },
  {
   "cell_type": "code",
   "execution_count": 18,
   "metadata": {},
   "outputs": [
    {
     "data": {
      "text/plain": [
       "20882"
      ]
     },
     "execution_count": 18,
     "metadata": {},
     "output_type": "execute_result"
    }
   ],
   "source": [
    "LN = RieszNetDeep()\n",
    "\n",
    "model = LN.double()\n",
    "\n",
    "count_parameters(model)"
   ]
  },
  {
   "cell_type": "code",
   "execution_count": null,
   "metadata": {},
   "outputs": [
    {
     "name": "stderr",
     "output_type": "stream",
     "text": [
      "C:\\Users\\barisin\\AppData\\Local\\Temp\\ipykernel_8540\\2195971149.py:98: UserWarning: Implicit dimension choice for softmax has been deprecated. Change the call to include dim=X as an argument.\n",
      "  x = F.softmax(x)\n"
     ]
    },
    {
     "name": "stdout",
     "output_type": "stream",
     "text": [
      "Epoch:\n",
      "1\n",
      "Train loss:\n",
      "tensor(1.5657, dtype=torch.float64, grad_fn=<MulBackward0>)\n",
      "val:\n"
     ]
    }
   ],
   "source": [
    "n_epochs = 20 # or whatever\n",
    "batch_size = 50 # or whatever\n",
    "train_num = 50000\n",
    "\n",
    "optimizer = optim.Adam(model.parameters(), lr = 0.001)\n",
    "scheduler = sched.StepLR(optimizer, step_size = 7, gamma = 0.5)\n",
    "criterion_val = loss = nn.CrossEntropyLoss()\n",
    "\n",
    "#train data\n",
    "input = t1.double()\n",
    "target = t2\n",
    "#validation\n",
    "input_v = ted1.double()\n",
    "target_v = ted2\n",
    "\n",
    "\n",
    "for epoch in range(n_epochs):\n",
    "    permutation = torch.randperm(train_num)\n",
    "    if(epoch % 2 == 1):\n",
    "        print(\"Epoch:\")\n",
    "        print(epoch)\n",
    "        print(\"Train loss:\")\n",
    "        print(t_loss/train_num*batch_size)\n",
    "        print(\"val:\")\n",
    "        val_loss=0\n",
    "        model.eval()\n",
    "        for i in range(200):\n",
    "            v1 = model(input_v[(i*50):((i+1)*50)])\n",
    "            v2  = target_v[(i*50):((i+1)*50)]\n",
    " \n",
    "            val_loss = val_loss + criterion_val(v1,v2)\n",
    "        print(\"Validation loss:\")\n",
    "        print(val_loss/10000*50)\n",
    "        print(\"--------\")\n",
    "    t_loss = 0\n",
    "    gc.collect()\n",
    "    model.train()\n",
    "\n",
    "    for i in range(0,train_num, batch_size):\n",
    "        optimizer.zero_grad()\n",
    "        indices = permutation[i:(i+batch_size)]\n",
    "        batch_x = input[indices]\n",
    "        batch_y = target[indices]\n",
    "        outputs = model.forward(batch_x)\n",
    "        loss = criterion_val(outputs,batch_y)\n",
    "\n",
    "        if(epoch % 2 == 0):\n",
    "            t_loss += loss\n",
    "\n",
    "        loss.backward()\n",
    "        optimizer.step()\n",
    "        gc.collect()\n",
    "\n",
    "    scheduler.step()\n",
    "    gc.collect()"
   ]
  },
  {
   "cell_type": "code",
   "execution_count": null,
   "metadata": {},
   "outputs": [],
   "source": [
    "torch.save(model.state_dict(), \"riesznet-mnist.pth\")"
   ]
  },
  {
   "cell_type": "code",
   "execution_count": null,
   "metadata": {},
   "outputs": [],
   "source": [
    "test_data = pd.read_csv(\"mnist_test.csv\")\n",
    "test_data = test_data.to_numpy()\n",
    "\n",
    "test_x = test_data[:,1:]\n",
    "test_x = test_x.reshape([test_x.shape[0],1,28,28])\n",
    "test_y = test_data[:,0]\n",
    "print(test_x.shape)\n",
    "print(test_y.shape)\n",
    "\n",
    "test_x  = torch.from_numpy(test_x).float()\n",
    "#test_x = test_x.reshape([test_x.shape[0], test_x.shape[1],1,1])\n",
    "test_y  = torch.from_numpy(test_y).float()"
   ]
  },
  {
   "cell_type": "code",
   "execution_count": null,
   "metadata": {},
   "outputs": [],
   "source": []
  },
  {
   "cell_type": "code",
   "execution_count": 15,
   "metadata": {},
   "outputs": [],
   "source": [
    "def accuracy(y1,y2):\n",
    "    train_acc = torch.sum(y1 == y2)\n",
    "    final_train_acc = train_acc/y2.shape[0]\n",
    "    return final_train_acc"
   ]
  },
  {
   "cell_type": "code",
   "execution_count": 12,
   "metadata": {},
   "outputs": [
    {
     "data": {
      "text/plain": [
       "RieszNetDeep(\n",
       "  (conv1): Conv2d(5, 12, kernel_size=(1, 1), stride=(1, 1))\n",
       "  (conv2): Conv2d(60, 16, kernel_size=(1, 1), stride=(1, 1))\n",
       "  (conv3): Conv2d(80, 24, kernel_size=(1, 1), stride=(1, 1))\n",
       "  (conv4): Conv2d(120, 32, kernel_size=(1, 1), stride=(1, 1))\n",
       "  (conv5): Conv2d(160, 80, kernel_size=(1, 1), stride=(1, 1))\n",
       "  (conv6): Conv2d(80, 10, kernel_size=(1, 1), stride=(1, 1))\n",
       "  (bn1): BatchNorm2d(12, eps=1e-05, momentum=0.1, affine=True, track_running_stats=True)\n",
       "  (bn2): BatchNorm2d(16, eps=1e-05, momentum=0.1, affine=True, track_running_stats=True)\n",
       "  (bn3): BatchNorm2d(24, eps=1e-05, momentum=0.1, affine=True, track_running_stats=True)\n",
       "  (bn4): BatchNorm2d(32, eps=1e-05, momentum=0.1, affine=True, track_running_stats=True)\n",
       "  (bn5): BatchNorm2d(80, eps=1e-05, momentum=0.1, affine=True, track_running_stats=True)\n",
       "  (GL1): RieszNet(\n",
       "    (Rx): RieszLayer()\n",
       "    (Ry): RieszLayer()\n",
       "  )\n",
       ")"
      ]
     },
     "execution_count": 12,
     "metadata": {},
     "output_type": "execute_result"
    }
   ],
   "source": [
    "#model.load_state_dict(torch.load(\"riesznet-mnist.pth\"))\n",
    "#model.eval()"
   ]
  },
  {
   "cell_type": "code",
   "execution_count": 13,
   "metadata": {},
   "outputs": [],
   "source": [
    "#cast to tensor"
   ]
  },
  {
   "cell_type": "code",
   "execution_count": 14,
   "metadata": {},
   "outputs": [
    {
     "data": {
      "text/plain": [
       "10"
      ]
     },
     "execution_count": 14,
     "metadata": {},
     "output_type": "execute_result"
    }
   ],
   "source": [
    "gc.collect()"
   ]
  },
  {
   "cell_type": "code",
   "execution_count": null,
   "metadata": {},
   "outputs": [],
   "source": []
  },
  {
   "cell_type": "code",
   "execution_count": null,
   "metadata": {},
   "outputs": [],
   "source": []
  },
  {
   "cell_type": "code",
   "execution_count": null,
   "metadata": {},
   "outputs": [],
   "source": []
  },
  {
   "cell_type": "code",
   "execution_count": null,
   "metadata": {},
   "outputs": [],
   "source": []
  },
  {
   "cell_type": "code",
   "execution_count": null,
   "metadata": {},
   "outputs": [],
   "source": []
  },
  {
   "cell_type": "code",
   "execution_count": null,
   "metadata": {},
   "outputs": [],
   "source": []
  }
 ],
 "metadata": {
  "kernelspec": {
   "display_name": "Python 3 (ipykernel)",
   "language": "python",
   "name": "python3"
  },
  "language_info": {
   "codemirror_mode": {
    "name": "ipython",
    "version": 3
   },
   "file_extension": ".py",
   "mimetype": "text/x-python",
   "name": "python",
   "nbconvert_exporter": "python",
   "pygments_lexer": "ipython3",
   "version": "3.11.4"
  }
 },
 "nbformat": 4,
 "nbformat_minor": 4
}
